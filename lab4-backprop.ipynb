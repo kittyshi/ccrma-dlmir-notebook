{
 "cells": [
  {
   "cell_type": "markdown",
   "metadata": {},
   "source": [
    "## DLMIR I Lab 4: Backpropagation"
   ]
  },
  {
   "cell_type": "markdown",
   "metadata": {},
   "source": [
    "In this lab, we will show you how to compute backpropagtion\n",
    "Let's start with a simple example.\n",
    "Let $y = a*z$, and $z = x + 2y$. <br />\n",
    "We want to compute partial derivatives $\\frac{\\delta z}{\\delta x}$, and $\\frac{\\delta z}{\\delta y}$. <br />\n",
    "First, pull out a piece of paper and see if you can compute those derivatives."
   ]
  },
  {
   "cell_type": "code",
   "execution_count": 1,
   "metadata": {},
   "outputs": [],
   "source": [
    "# Set some inputs\n",
    "a = -4; x = -2; y = 5;\n",
    "# Write down the compound function\n",
    "z = x + 2*y\n",
    "f = a * z\n",
    "\n",
    "# First backprop through y = a*z \n",
    "### Write your code here ###\n",
    "# df_dz = \n",
    "# df_da =\n",
    "### End your code here ###\n",
    "\n",
    "# Next backprop through z = x+y (hint:use the chain rule)\n",
    "### Write your code here ###\n",
    "# df_dx = \n",
    "# df_dy =\n",
    "### End your code here ###\n",
    "#print(\"df_dx = %f, df_dy = %f\" % (df_dz, df_dy))"
   ]
  },
  {
   "cell_type": "markdown",
   "metadata": {},
   "source": [
    "Check if you got those derivatives right"
   ]
  },
  {
   "cell_type": "markdown",
   "metadata": {},
   "source": [
    "Now, Let's say $y = \\sigma(w_0x_0+w_1x_1+w_2)$, where $\\sigma$ is the sigmoid function.\n",
    "We want to compute $\\frac{\\delta }{\\delta x}$, and $\\frac{\\delta }{\\delta w}$"
   ]
  },
  {
   "cell_type": "code",
   "execution_count": null,
   "metadata": {},
   "outputs": [],
   "source": [
    "# let's generate some random weights and bias\n",
    "import numpy as np\n",
    "w =  [-2, 4, 3]\n",
    "x = [1,-2]\n",
    "\n",
    "# We use staged backpropagation, meaning that we break down the forward pass into stages,\n",
    "# So that they are easily backpropped through using the chain rule.\n",
    "# let z = wx+b, and y = sigmoid(z)\n",
    "\n",
    "### Write your code here for the forward pass ###\n",
    "# z = \n",
    "# y = \n",
    "\n",
    "\n",
    "### Write your code here for computing the backward pass ###\n",
    "# hint: remember the derivative of the sigmoid function that we derived?\n",
    "# It can be rewritten as an analytical form\n",
    "# Backprop into x through chain rule, d_dx = d_dz * dz_dx, d_dw = d_dz * dz_dw\n",
    "# d_dz = \n",
    "# dy_dx = \n",
    "# dy_dw = "
   ]
  },
  {
   "cell_type": "markdown",
   "metadata": {},
   "source": [
    "In the end, we have dy_dx, dy_dw telling us the 'sensitivity' of the variables $x, w$ on y.  <br />\n",
    "We can also visualize this process with a computational graph that group operations to one single gate at the end. <br />\n",
    "Add, Multiplication, and Max are the three most commonly used gates in neural network. (Can you draw the graph?)"
   ]
  },
  {
   "cell_type": "markdown",
   "metadata": {},
   "source": [
    "Hoep you'll now get an intuition about the backpropagation.\n",
    "Note: the above example is related to single variables. \n",
    "For vector, matrix gradient, we need to use dimension analysis. \n",
    "You need to check that the derivative of a matrix is the same size of the original matrix. "
   ]
  }
 ],
 "metadata": {
  "kernelspec": {
   "display_name": "Python 2",
   "language": "python",
   "name": "python2"
  },
  "language_info": {
   "codemirror_mode": {
    "name": "ipython",
    "version": 2
   },
   "file_extension": ".py",
   "mimetype": "text/x-python",
   "name": "python",
   "nbconvert_exporter": "python",
   "pygments_lexer": "ipython2",
   "version": "2.7.12"
  }
 },
 "nbformat": 4,
 "nbformat_minor": 2
}
