{
 "cells": [
  {
   "cell_type": "code",
   "execution_count": 1,
   "metadata": {},
   "outputs": [
    {
     "name": "stderr",
     "output_type": "stream",
     "text": [
      "Using TensorFlow backend.\n"
     ]
    }
   ],
   "source": [
    "from __future__ import print_function\n",
    "import keras\n",
    "from keras.layers import Dense, Flatten\n",
    "from keras.layers import Conv2D, MaxPooling2D, Dropout\n",
    "from keras.models import Sequential\n",
    "import matplotlib.pylab as plt\n",
    "\n",
    "import numpy as np\n"
   ]
  },
  {
   "cell_type": "markdown",
   "metadata": {},
   "source": [
    "## Read pre-computed melspec features "
   ]
  },
  {
   "cell_type": "code",
   "execution_count": 2,
   "metadata": {},
   "outputs": [
    {
     "name": "stdout",
     "output_type": "stream",
     "text": [
      "2368 2131 237\n"
     ]
    }
   ],
   "source": [
    "data = np.load('melspec_4_classes_data.npy')\n",
    "labels = np.load('melspec_4_classes_labels.npy')\n",
    "\n",
    "# shuffle data and split for training / test\n",
    "rnd = np.random.permutation(labels.shape[0])\n",
    "num_train = labels.shape[0] * 9/10\n",
    "num_val = labels.shape[0] - num_train\n",
    "print(len(rnd), num_train, num_val)\n",
    "\n",
    "train_idx = rnd[:num_train]\n",
    "val_idx = rnd[num_train:]\n",
    "\n",
    "data_tr  = data[train_idx,:,:]\n",
    "label_tr = labels[train_idx,]\n",
    "data_val  = data[val_idx,:,:]\n",
    "label_val = labels[val_idx,]\n",
    "\n",
    "# convert the data to the right type\n",
    "data_tr = data_tr.astype(np.float32)\n",
    "label_tr = label_tr.astype(np.int32)\n",
    "data_val = data_val.astype(np.float32)\n",
    "label_val = label_val.astype(np.int32)"
   ]
  },
  {
   "cell_type": "code",
   "execution_count": 36,
   "metadata": {},
   "outputs": [
    {
     "data": {
      "text/plain": [
       "<matplotlib.image.AxesImage at 0x7efc603ea590>"
      ]
     },
     "execution_count": 36,
     "metadata": {},
     "output_type": "execute_result"
    },
    {
     "data": {
      "image/png": "[encoded data removed]",
      "text/plain": [
       "<Figure size 432x288 with 1 Axes>"
      ]
     },
     "metadata": {},
     "output_type": "display_data"
    }
   ],
   "source": [
    "# Let's take a look at the input\n",
    "x = data_tr[8,:,:]\n",
    "x = x.reshape(x.shape[0], x.shape[1])\n",
    "plt.imshow(x)"
   ]
  },
  {
   "cell_type": "markdown",
   "metadata": {},
   "source": [
    "## Prepare data for training"
   ]
  },
  {
   "cell_type": "code",
   "execution_count": 3,
   "metadata": {},
   "outputs": [
    {
     "data": {
      "text/plain": [
       "((2131, 4), (237, 4))"
      ]
     },
     "execution_count": 3,
     "metadata": {},
     "output_type": "execute_result"
    }
   ],
   "source": [
    "feature_rows = 128\n",
    "feature_cols = 130\n",
    "num_class = 4\n",
    "\n",
    "data_tr = data_tr.reshape(data_tr.shape[0], feature_rows, feature_cols, 1)\n",
    "data_val = data_val.reshape(data_val.shape[0], feature_rows, feature_cols, 1)\n",
    "\n",
    "input_shape = (feature_rows, feature_cols, 1)\n",
    "\n",
    "# convert class vector to one-hot\n",
    "label_tr = keras.utils.to_categorical(label_tr, num_class)\n",
    "label_val = keras.utils.to_categorical(label_val, num_class)\n",
    "\n",
    "label_tr.shape, label_val.shape"
   ]
  },
  {
   "cell_type": "markdown",
   "metadata": {},
   "source": [
    "Now let's build a basic CNN in Keras, a high-level wrapper for tensorflow. It is easy to use for quick prototyping."
   ]
  },
  {
   "cell_type": "markdown",
   "metadata": {},
   "source": [
    "## Describe the model"
   ]
  },
  {
   "cell_type": "code",
   "execution_count": 4,
   "metadata": {},
   "outputs": [
    {
     "name": "stdout",
     "output_type": "stream",
     "text": [
      "_________________________________________________________________\n",
      "Layer (type)                 Output Shape              Param #   \n",
      "=================================================================\n",
      "conv2d_1 (Conv2D)            (None, 113, 115, 32)      8224      \n",
      "_________________________________________________________________\n",
      "max_pooling2d_1 (MaxPooling2 (None, 7, 7, 32)          0         \n",
      "_________________________________________________________________\n",
      "flatten_1 (Flatten)          (None, 1568)              0         \n",
      "_________________________________________________________________\n",
      "dense_1 (Dense)              (None, 512)               803328    \n",
      "_________________________________________________________________\n",
      "dense_2 (Dense)              (None, 4)                 2052      \n",
      "=================================================================\n",
      "Total params: 813,604\n",
      "Trainable params: 813,604\n",
      "Non-trainable params: 0\n",
      "_________________________________________________________________\n"
     ]
    }
   ],
   "source": [
    "# describe your model here\n",
    "model = Sequential()\n",
    "\n",
    "# 2-d convolutional layer\n",
    "model.add(Conv2D(32, kernel_size=(16, 16), activation='relu', input_shape=input_shape))\n",
    "\n",
    "# max pooling\n",
    "model.add(MaxPooling2D(pool_size=(16, 16), strides=(16, 16)))\n",
    "\n",
    "model.add(Flatten())\n",
    "# one dense layer\n",
    "model.add(Dense(512, activation='relu'))\n",
    "model.add(Dense(num_class, activation='softmax'))\n",
    "\n",
    "model.compile(loss=keras.losses.categorical_crossentropy,\n",
    "              optimizer=keras.optimizers.Adam(),\n",
    "              metrics=['accuracy'])\n",
    "\n",
    "model.summary()"
   ]
  },
  {
   "cell_type": "markdown",
   "metadata": {},
   "source": [
    "# Start training! "
   ]
  },
  {
   "cell_type": "code",
   "execution_count": 5,
   "metadata": {},
   "outputs": [
    {
     "name": "stdout",
     "output_type": "stream",
     "text": [
      "Train on 2131 samples, validate on 237 samples\n",
      "Epoch 1/25\n",
      "2131/2131 [==============================] - 319s - loss: 7.4888 - acc: 0.3824 - val_loss: 8.6303 - val_acc: 0.3671\n",
      "Epoch 2/25\n",
      "2131/2131 [==============================] - 0s - loss: 7.1202 - acc: 0.4594 - val_loss: 8.0312 - val_acc: 0.3966\n",
      "Epoch 3/25\n",
      "2131/2131 [==============================] - 0s - loss: 5.9696 - acc: 0.4660 - val_loss: 5.7847 - val_acc: 0.4262\n",
      "Epoch 4/25\n",
      "2131/2131 [==============================] - 0s - loss: 3.1307 - acc: 0.4852 - val_loss: 2.2314 - val_acc: 0.4008\n",
      "Epoch 5/25\n",
      "2131/2131 [==============================] - 0s - loss: 1.4065 - acc: 0.4078 - val_loss: 1.5665 - val_acc: 0.3249\n",
      "Epoch 6/25\n",
      "2131/2131 [==============================] - 0s - loss: 1.2362 - acc: 0.4608 - val_loss: 1.4238 - val_acc: 0.4641\n",
      "Epoch 7/25\n",
      "2131/2131 [==============================] - 0s - loss: 1.0651 - acc: 0.6025 - val_loss: 1.3809 - val_acc: 0.4768\n",
      "Epoch 8/25\n",
      "2131/2131 [==============================] - 0s - loss: 0.9051 - acc: 0.6607 - val_loss: 1.3523 - val_acc: 0.5232\n",
      "Epoch 9/25\n",
      "2131/2131 [==============================] - 0s - loss: 0.7933 - acc: 0.7001 - val_loss: 1.3205 - val_acc: 0.5232\n",
      "Epoch 10/25\n",
      "2131/2131 [==============================] - 0s - loss: 0.7100 - acc: 0.7231 - val_loss: 1.3682 - val_acc: 0.5274\n",
      "Epoch 11/25\n",
      "2131/2131 [==============================] - 0s - loss: 0.6381 - acc: 0.7658 - val_loss: 1.3903 - val_acc: 0.5738\n",
      "Epoch 12/25\n",
      "2131/2131 [==============================] - 0s - loss: 0.5479 - acc: 0.8029 - val_loss: 1.4609 - val_acc: 0.5865\n",
      "Epoch 13/25\n",
      "2131/2131 [==============================] - 0s - loss: 0.4768 - acc: 0.8278 - val_loss: 1.5489 - val_acc: 0.5992\n",
      "Epoch 14/25\n",
      "2131/2131 [==============================] - 0s - loss: 0.4645 - acc: 0.8320 - val_loss: 1.5619 - val_acc: 0.6034\n",
      "Epoch 15/25\n",
      "2131/2131 [==============================] - ETA: 0s - loss: 0.3935 - acc: 0.850 - 0s - loss: 0.3927 - acc: 0.8494 - val_loss: 1.7801 - val_acc: 0.5823\n",
      "Epoch 16/25\n",
      "2131/2131 [==============================] - 0s - loss: 0.3872 - acc: 0.8550 - val_loss: 1.6600 - val_acc: 0.6034\n",
      "Epoch 17/25\n",
      "2131/2131 [==============================] - 0s - loss: 0.3133 - acc: 0.8949 - val_loss: 1.5883 - val_acc: 0.6118\n",
      "Epoch 18/25\n",
      "2131/2131 [==============================] - 0s - loss: 0.2734 - acc: 0.9099 - val_loss: 1.7442 - val_acc: 0.6160\n",
      "Epoch 19/25\n",
      "2131/2131 [==============================] - 0s - loss: 0.2532 - acc: 0.9122 - val_loss: 1.7135 - val_acc: 0.6287\n",
      "Epoch 20/25\n",
      "2131/2131 [==============================] - 0s - loss: 0.2197 - acc: 0.9282 - val_loss: 1.9006 - val_acc: 0.6498\n",
      "Epoch 21/25\n",
      "2131/2131 [==============================] - 0s - loss: 0.2582 - acc: 0.9198 - val_loss: 2.1605 - val_acc: 0.5823\n",
      "Epoch 22/25\n",
      "2131/2131 [==============================] - 0s - loss: 0.3042 - acc: 0.9094 - val_loss: 1.9661 - val_acc: 0.5781\n",
      "Epoch 23/25\n",
      "2131/2131 [==============================] - 0s - loss: 0.3476 - acc: 0.8944 - val_loss: 1.9773 - val_acc: 0.5865\n",
      "Epoch 24/25\n",
      "2131/2131 [==============================] - 0s - loss: 0.2713 - acc: 0.9230 - val_loss: 1.9640 - val_acc: 0.6034\n",
      "Epoch 25/25\n",
      "2131/2131 [==============================] - 0s - loss: 0.2950 - acc: 0.9085 - val_loss: 2.1570 - val_acc: 0.6076\n"
     ]
    },
    {
     "data": {
      "text/plain": [
       "<keras.callbacks.History at 0x7efced49f610>"
      ]
     },
     "execution_count": 5,
     "metadata": {},
     "output_type": "execute_result"
    }
   ],
   "source": [
    "class accuracy_callback_fn(keras.callbacks.Callback):\n",
    "    def on_train_begin(self, logs={}):\n",
    "        self.acc = []\n",
    "        self.val_acc = []\n",
    "\n",
    "    def on_epoch_end(self, batch, logs={}):\n",
    "        self.acc.append(logs.get('acc'))\n",
    "        self.val_acc.append(logs.get('val_acc'))\n",
    "\n",
    "accuracy_callback = accuracy_callback_fn()\n",
    "\n",
    "# start the training\n",
    "batch_size = 128\n",
    "epochs = 25\n",
    "model.fit(data_tr, label_tr,\n",
    "          batch_size = batch_size,\n",
    "          epochs = epochs,\n",
    "          verbose = 1,\n",
    "          validation_data = (data_val, label_val),\n",
    "          callbacks = [accuracy_callback])"
   ]
  },
  {
   "cell_type": "markdown",
   "metadata": {},
   "source": [
    "## Evaluate"
   ]
  },
  {
   "cell_type": "code",
   "execution_count": 8,
   "metadata": {},
   "outputs": [
    {
     "name": "stdout",
     "output_type": "stream",
     "text": [
      "Validation loss: 2.1569959523808606\n",
      "Validation accuracy: 0.607594936834609\n"
     ]
    },
    {
     "data": {
      "image/png": "[encoded data removed]",
      "text/plain": [
       "<Figure size 432x288 with 1 Axes>"
      ]
     },
     "metadata": {},
     "output_type": "display_data"
    }
   ],
   "source": [
    "score = model.evaluate(data_val, label_val, verbose=0)\n",
    "\n",
    "print('Validation loss:', score[0])\n",
    "print('Validation accuracy:', score[1])\n",
    "tr_acc, = plt.plot(range(epochs), accuracy_callback.acc)\n",
    "val_acc, = plt.plot(range(epochs), accuracy_callback.val_acc)\n",
    "plt.legend([tr_acc, val_acc], ['Train Accuracy', 'Val Accuracy'])\n",
    "\n",
    "plt.xlabel('Epochs')\n",
    "plt.ylabel('Accuracy')\n",
    "plt.show()"
   ]
  },
  {
   "cell_type": "code",
   "execution_count": null,
   "metadata": {},
   "outputs": [],
   "source": []
  }
 ],
 "metadata": {
  "kernelspec": {
   "display_name": "Python 2",
   "language": "python",
   "name": "python2"
  },
  "language_info": {
   "codemirror_mode": {
    "name": "ipython",
    "version": 2
   },
   "file_extension": ".py",
   "mimetype": "text/x-python",
   "name": "python",
   "nbconvert_exporter": "python",
   "pygments_lexer": "ipython2",
   "version": "2.7.13"
  }
 },
 "nbformat": 4,
 "nbformat_minor": 2
}
