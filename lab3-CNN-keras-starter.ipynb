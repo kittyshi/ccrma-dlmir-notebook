{
 "cells": [
  {
   "cell_type": "markdown",
   "metadata": {},
   "source": [
    "## DLMIR-1 Lab 3"
   ]
  },
  {
   "cell_type": "markdown",
   "metadata": {},
   "source": [
    "Today we will start working on keras to build a neural network.\n",
    "Keras is a high level API. It is a wrapper of tensorflow.\n",
    "It's a good tool for doing quick prototyping. "
   ]
  },
  {
   "cell_type": "code",
   "execution_count": 1,
   "metadata": {},
   "outputs": [
    {
     "name": "stderr",
     "output_type": "stream",
     "text": [
      "Using TensorFlow backend.\n"
     ]
    }
   ],
   "source": [
    "from __future__ import print_function\n",
    "import keras\n",
    "from keras.layers import Dense, Flatten\n",
    "from keras.layers import Conv2D, MaxPooling2D, Dropout\n",
    "from keras.models import Sequential\n",
    "import matplotlib.pylab as plt\n",
    "\n",
    "import numpy as np\n"
   ]
  },
  {
   "cell_type": "markdown",
   "metadata": {},
   "source": [
    "## Read pre-computed melspec features "
   ]
  },
  {
   "cell_type": "markdown",
   "metadata": {},
   "source": [
    "Here are a few code to organize the data.\n",
    "I've pre-extracted mel-spectrogram features from the dataset, and stored as numpy array.\n",
    "When you take a look at the labels, they are: 0:guitar, 1:flute, 3:trumpet, 4:violin\n",
    "Let's first get those features."
   ]
  },
  {
   "cell_type": "code",
   "execution_count": 2,
   "metadata": {},
   "outputs": [
    {
     "name": "stdout",
     "output_type": "stream",
     "text": [
      "2368 2131 237\n"
     ]
    }
   ],
   "source": [
    "data = np.load('../mydata/melspec_4_classes_data.npy')\n",
    "labels = np.load('../mydata/melspec_4_classes_labels.npy')\n",
    "\n",
    "# shuffle data and split for training / test\n",
    "rnd = np.random.permutation(labels.shape[0])\n",
    "num_train = int(labels.shape[0] * 9/10)\n",
    "num_val = labels.shape[0] - num_train\n",
    "print(len(rnd), num_train, num_val)\n",
    "\n",
    "train_idx = rnd[:num_train]\n",
    "val_idx = rnd[num_train:]\n",
    "\n",
    "data_tr  = data[train_idx,:,:]\n",
    "label_tr = labels[train_idx,]\n",
    "data_val  = data[val_idx,:,:]\n",
    "label_val = labels[val_idx,]\n",
    "\n",
    "# convert the data to the right type\n",
    "data_tr = data_tr.astype(np.float32)\n",
    "label_tr = label_tr.astype(np.int32)\n",
    "data_val = data_val.astype(np.float32)\n",
    "label_val = label_val.astype(np.int32)"
   ]
  },
  {
   "cell_type": "code",
   "execution_count": 3,
   "metadata": {},
   "outputs": [
    {
     "data": {
      "text/plain": [
       "<matplotlib.image.AxesImage at 0x7f5335f3fcd0>"
      ]
     },
     "execution_count": 3,
     "metadata": {},
     "output_type": "execute_result"
    },
    {
     "data": {
      "image/png": "[encoded data removed]",
      "text/plain": [
       "<Figure size 432x288 with 1 Axes>"
      ]
     },
     "metadata": {},
     "output_type": "display_data"
    }
   ],
   "source": [
    "# Let's take a look at the input\n",
    "x = data_tr[8,:,:]\n",
    "x = x.reshape(x.shape[0], x.shape[1])\n",
    "plt.imshow(x)"
   ]
  },
  {
   "cell_type": "markdown",
   "metadata": {},
   "source": [
    "## Prepare data for training"
   ]
  },
  {
   "cell_type": "code",
   "execution_count": 4,
   "metadata": {},
   "outputs": [
    {
     "data": {
      "text/plain": [
       "((2131, 4), (237, 4))"
      ]
     },
     "execution_count": 4,
     "metadata": {},
     "output_type": "execute_result"
    }
   ],
   "source": [
    "# The feature that's stored in the numpy array file is mel-spectrogram\n",
    "# Each having 128 frequency bins, and 130 frames\n",
    "feature_rows = 128\n",
    "feature_cols = 130\n",
    "num_class = 4\n",
    "\n",
    "data_tr = data_tr.reshape(data_tr.shape[0], feature_rows, feature_cols, 1)\n",
    "data_val = data_val.reshape(data_val.shape[0], feature_rows, feature_cols, 1)\n",
    "\n",
    "input_shape = (feature_rows, feature_cols, 1)\n",
    "\n",
    "# convert class vector to one-hot\n",
    "label_tr = keras.utils.to_categorical(label_tr, num_class)\n",
    "label_val = keras.utils.to_categorical(label_val, num_class)\n",
    "\n",
    "label_tr.shape, label_val.shape"
   ]
  },
  {
   "cell_type": "markdown",
   "metadata": {},
   "source": [
    "Now let's build a basic CNN in Keras, a high-level wrapper for tensorflow. It is easy to use for quick prototyping.\n",
    "We use a sequential model here, which is a linear stack of model. It is easy to use"
   ]
  },
  {
   "cell_type": "markdown",
   "metadata": {},
   "source": [
    "## Describe the model"
   ]
  },
  {
   "cell_type": "code",
   "execution_count": 5,
   "metadata": {},
   "outputs": [
    {
     "name": "stdout",
     "output_type": "stream",
     "text": [
      "_________________________________________________________________\n",
      "Layer (type)                 Output Shape              Param #   \n",
      "=================================================================\n",
      "conv2d_1 (Conv2D)            (None, 113, 115, 32)      8224      \n",
      "_________________________________________________________________\n",
      "max_pooling2d_1 (MaxPooling2 (None, 7, 7, 32)          0         \n",
      "_________________________________________________________________\n",
      "flatten_1 (Flatten)          (None, 1568)              0         \n",
      "_________________________________________________________________\n",
      "dense_1 (Dense)              (None, 512)               803328    \n",
      "_________________________________________________________________\n",
      "dense_2 (Dense)              (None, 4)                 2052      \n",
      "=================================================================\n",
      "Total params: 813,604\n",
      "Trainable params: 813,604\n",
      "Non-trainable params: 0\n",
      "_________________________________________________________________\n"
     ]
    }
   ],
   "source": [
    "# describe your model here\n",
    "model = Sequential()\n",
    "\n",
    "# 2-d convolutional layer\n",
    "model.add(Conv2D(32, kernel_size=(16, 16), activation='relu', input_shape=input_shape))\n",
    "\n",
    "# max pooling\n",
    "model.add(MaxPooling2D(pool_size=(16, 16), strides=(16, 16)))\n",
    "\n",
    "# The final layer is a dense layer\n",
    "model.add(Flatten())\n",
    "model.add(Dense(512, activation='relu'))\n",
    "model.add(Dense(num_class, activation='softmax'))\n",
    "\n",
    "# Finish designing the model, let's compile it\n",
    "model.compile(loss=keras.losses.categorical_crossentropy,\n",
    "              optimizer=keras.optimizers.Adam(),\n",
    "              metrics=['accuracy'])\n",
    "\n",
    "# Take a look at what's inside the model\n",
    "model.summary()"
   ]
  },
  {
   "cell_type": "markdown",
   "metadata": {},
   "source": [
    "# Start training! "
   ]
  },
  {
   "cell_type": "code",
   "execution_count": 6,
   "metadata": {},
   "outputs": [
    {
     "name": "stdout",
     "output_type": "stream",
     "text": [
      "Train on 2131 samples, validate on 237 samples\n",
      "Epoch 1/25\n",
      "2131/2131 [==============================] - 29s 13ms/step - loss: 7.1495 - acc: 0.3956 - val_loss: 6.4255 - val_acc: 0.4726\n",
      "Epoch 2/25\n",
      "2131/2131 [==============================] - 1s 610us/step - loss: 5.2411 - acc: 0.4608 - val_loss: 4.7271 - val_acc: 0.3713\n",
      "Epoch 3/25\n",
      "2131/2131 [==============================] - 1s 604us/step - loss: 2.1426 - acc: 0.4214 - val_loss: 1.3793 - val_acc: 0.4177\n",
      "Epoch 4/25\n",
      "2131/2131 [==============================] - 1s 601us/step - loss: 1.3032 - acc: 0.4857 - val_loss: 1.2649 - val_acc: 0.5190\n",
      "Epoch 5/25\n",
      "2131/2131 [==============================] - 1s 602us/step - loss: 1.1146 - acc: 0.5800 - val_loss: 1.2169 - val_acc: 0.5612\n",
      "Epoch 6/25\n",
      "2131/2131 [==============================] - 1s 606us/step - loss: 1.0021 - acc: 0.6190 - val_loss: 1.1992 - val_acc: 0.5823\n",
      "Epoch 7/25\n",
      "2131/2131 [==============================] - 1s 604us/step - loss: 0.8907 - acc: 0.6645 - val_loss: 1.2984 - val_acc: 0.5696\n",
      "Epoch 8/25\n",
      "2131/2131 [==============================] - 1s 606us/step - loss: 0.7805 - acc: 0.7198 - val_loss: 1.3016 - val_acc: 0.5823\n",
      "Epoch 9/25\n",
      "2131/2131 [==============================] - 1s 602us/step - loss: 0.7192 - acc: 0.7250 - val_loss: 1.2381 - val_acc: 0.6076\n",
      "Epoch 10/25\n",
      "2131/2131 [==============================] - 1s 604us/step - loss: 0.6277 - acc: 0.7696 - val_loss: 1.2459 - val_acc: 0.6498\n",
      "Epoch 11/25\n",
      "2131/2131 [==============================] - 1s 605us/step - loss: 0.5524 - acc: 0.8020 - val_loss: 1.3952 - val_acc: 0.6414\n",
      "Epoch 12/25\n",
      "2131/2131 [==============================] - 1s 606us/step - loss: 0.5174 - acc: 0.8146 - val_loss: 1.5213 - val_acc: 0.6329\n",
      "Epoch 13/25\n",
      "2131/2131 [==============================] - 1s 609us/step - loss: 0.4952 - acc: 0.8212 - val_loss: 1.5517 - val_acc: 0.6203\n",
      "Epoch 14/25\n",
      "2131/2131 [==============================] - 1s 605us/step - loss: 0.4805 - acc: 0.8184 - val_loss: 1.4593 - val_acc: 0.6498\n",
      "Epoch 15/25\n",
      "2131/2131 [==============================] - 1s 608us/step - loss: 0.4413 - acc: 0.8437 - val_loss: 1.5434 - val_acc: 0.6456\n",
      "Epoch 16/25\n",
      "2131/2131 [==============================] - 1s 611us/step - loss: 0.3520 - acc: 0.8789 - val_loss: 1.6368 - val_acc: 0.6245\n",
      "Epoch 17/25\n",
      "2131/2131 [==============================] - 1s 611us/step - loss: 0.3092 - acc: 0.8911 - val_loss: 1.7158 - val_acc: 0.6667\n",
      "Epoch 18/25\n",
      "2131/2131 [==============================] - 1s 608us/step - loss: 0.2848 - acc: 0.8949 - val_loss: 1.7066 - val_acc: 0.6582\n",
      "Epoch 19/25\n",
      "2131/2131 [==============================] - 1s 613us/step - loss: 0.2823 - acc: 0.9057 - val_loss: 1.8437 - val_acc: 0.6371\n",
      "Epoch 20/25\n",
      "2131/2131 [==============================] - 1s 613us/step - loss: 0.3308 - acc: 0.8869 - val_loss: 1.8883 - val_acc: 0.6371\n",
      "Epoch 21/25\n",
      "2131/2131 [==============================] - 1s 615us/step - loss: 0.2973 - acc: 0.8982 - val_loss: 2.0188 - val_acc: 0.6414\n",
      "Epoch 22/25\n",
      "2131/2131 [==============================] - 1s 612us/step - loss: 0.3484 - acc: 0.8916 - val_loss: 2.1540 - val_acc: 0.6118\n",
      "Epoch 23/25\n",
      "2131/2131 [==============================] - 1s 613us/step - loss: 0.3663 - acc: 0.8775 - val_loss: 1.9447 - val_acc: 0.6498\n",
      "Epoch 24/25\n",
      "2131/2131 [==============================] - 1s 610us/step - loss: 0.2956 - acc: 0.8991 - val_loss: 2.0719 - val_acc: 0.6582\n",
      "Epoch 25/25\n",
      "2131/2131 [==============================] - 1s 611us/step - loss: 0.2500 - acc: 0.9169 - val_loss: 2.0824 - val_acc: 0.6414\n"
     ]
    },
    {
     "data": {
      "text/plain": [
       "<keras.callbacks.History at 0x7f533265acd0>"
      ]
     },
     "execution_count": 6,
     "metadata": {},
     "output_type": "execute_result"
    }
   ],
   "source": [
    "class accuracy_callback_fn(keras.callbacks.Callback):\n",
    "    def on_train_begin(self, logs={}):\n",
    "        self.acc = []\n",
    "        self.val_acc = []\n",
    "\n",
    "    def on_epoch_end(self, batch, logs={}):\n",
    "        self.acc.append(logs.get('acc'))\n",
    "        self.val_acc.append(logs.get('val_acc'))\n",
    "\n",
    "accuracy_callback = accuracy_callback_fn()\n",
    "\n",
    "# start the training\n",
    "batch_size = 128\n",
    "epochs = 25\n",
    "model.fit(data_tr, label_tr,\n",
    "          batch_size = batch_size,\n",
    "          epochs = epochs,\n",
    "          verbose = 1,\n",
    "          validation_data = (data_val, label_val),\n",
    "          callbacks = [accuracy_callback])"
   ]
  },
  {
   "cell_type": "markdown",
   "metadata": {},
   "source": [
    "## Evaluate"
   ]
  },
  {
   "cell_type": "code",
   "execution_count": 8,
   "metadata": {},
   "outputs": [
    {
     "name": "stdout",
     "output_type": "stream",
     "text": [
      "Validation loss: 2.1569959523808606\n",
      "Validation accuracy: 0.607594936834609\n"
     ]
    },
    {
     "data": {
      "image/png": "[encoded data removed]",
      "text/plain": [
       "<Figure size 432x288 with 1 Axes>"
      ]
     },
     "metadata": {},
     "output_type": "display_data"
    }
   ],
   "source": [
    "score = model.evaluate(data_val, label_val, verbose=0)\n",
    "\n",
    "print('Validation loss:', score[0])\n",
    "print('Validation accuracy:', score[1])\n",
    "tr_acc, = plt.plot(range(epochs), accuracy_callback.acc)\n",
    "val_acc, = plt.plot(range(epochs), accuracy_callback.val_acc)\n",
    "plt.legend([tr_acc, val_acc], ['Train Accuracy', 'Val Accuracy'])\n",
    "\n",
    "plt.xlabel('Epochs')\n",
    "plt.ylabel('Accuracy')\n",
    "plt.show()"
   ]
  },
  {
   "cell_type": "markdown",
   "metadata": {},
   "source": [
    "## Now it's your turn. Can you make it better?"
   ]
  }
 ],
 "metadata": {
  "kernelspec": {
   "display_name": "Python 2",
   "language": "python",
   "name": "python2"
  },
  "language_info": {
   "codemirror_mode": {
    "name": "ipython",
    "version": 2
   },
   "file_extension": ".py",
   "mimetype": "text/x-python",
   "name": "python",
   "nbconvert_exporter": "python",
   "pygments_lexer": "ipython2",
   "version": "2.7.12"
  }
 },
 "nbformat": 4,
 "nbformat_minor": 2
}
